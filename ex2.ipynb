{
 "cells": [
  {
   "cell_type": "code",
   "execution_count": 1,
   "id": "ea813647",
   "metadata": {},
   "outputs": [
    {
     "name": "stdout",
     "output_type": "stream",
     "text": [
      "0\n"
     ]
    }
   ],
   "source": [
    "#BT1: nhap so gap doi n\n",
    "n = int(input())\n",
    "print(n*2)"
   ]
  },
  {
   "cell_type": "code",
   "execution_count": 6,
   "id": "34bc7f8f",
   "metadata": {},
   "outputs": [
    {
     "name": "stdout",
     "output_type": "stream",
     "text": [
      "Dien tich trong cay la :  1.21\n"
     ]
    }
   ],
   "source": [
    "#BT2: Tinh dien tich trong cay\n",
    "import math\n",
    "a,b = map(int,input(\"Nhap lan luot vao chieu rong, chieu dai:\").split())\n",
    "\n",
    "dien_tich_khu_dat = a * b\n",
    "ban_kinh = a / 2\n",
    "dien_tich_hinh_tron = pi * (math.pow(ban_kinh,2))\n",
    "dien_tich_trong_cay = dien_tich_khu_dat - dien_tich_hinh_tron \n",
    "print(\"Dien tich trong cay la : \",round(dien_tich_trong_cay,2))\n"
   ]
  },
  {
   "cell_type": "code",
   "execution_count": 7,
   "id": "3b212b2b",
   "metadata": {},
   "outputs": [
    {
     "name": "stdout",
     "output_type": "stream",
     "text": [
      "Hay nhap mot chu cai dang in hoa hoac in thuong\n"
     ]
    }
   ],
   "source": [
    "#BT3 : In chu cai hoa thuong\n",
    "chu_cai = input()\n",
    "\n",
    "#Dung cau dieu kien de kiem tra\n",
    "if ord(chu_cai) >= 65 and ord(chu_cai) <= 90 :\n",
    "    print(f\"Dang chu thuong cua chu cai la : {chr(ord(chu_cai)+32)}\")\n",
    "elif ord(chu_cai) >= 97 and ord(chu_cai) <= 122 :\n",
    "    print(f\"Dang chu hoa cua chu cai la : {chr(ord(chu_cai) - 32)}\")\n",
    "else : \n",
    "    print(\"Hay nhap mot chu cai dang in hoa hoac in thuong\")"
   ]
  },
  {
   "cell_type": "code",
   "execution_count": 8,
   "id": "73cf9588",
   "metadata": {},
   "outputs": [
    {
     "ename": "ValueError",
     "evalue": "could not convert string to float: 'q'",
     "output_type": "error",
     "traceback": [
      "\u001b[31m---------------------------------------------------------------------------\u001b[39m",
      "\u001b[31mValueError\u001b[39m                                Traceback (most recent call last)",
      "\u001b[36mCell\u001b[39m\u001b[36m \u001b[39m\u001b[32mIn[8]\u001b[39m\u001b[32m, line 4\u001b[39m\n\u001b[32m      1\u001b[39m \u001b[38;5;66;03m#BT6 : Tam giac\u001b[39;00m\n\u001b[32m      2\u001b[39m \u001b[38;5;66;03m#Nhap vao gia tri 3 canh cua tam giac\u001b[39;00m\n\u001b[32m      3\u001b[39m \u001b[38;5;28;01mimport\u001b[39;00m\u001b[38;5;250m \u001b[39m\u001b[34;01mmath\u001b[39;00m\n\u001b[32m----> \u001b[39m\u001b[32m4\u001b[39m a,b,c = \u001b[38;5;28mmap\u001b[39m(\u001b[38;5;28mfloat\u001b[39m,\u001b[38;5;28minput\u001b[39m(\u001b[33m\"\u001b[39m\u001b[33mNhap 3 canh cua tam giac :\u001b[39m\u001b[33m\"\u001b[39m).split())\n\u001b[32m      6\u001b[39m \u001b[38;5;66;03m#Kiem tra xem 3 canh vua nhap co thoa man la 1 tam giac hay khong\u001b[39;00m\n\u001b[32m      7\u001b[39m \u001b[38;5;28;01mif\u001b[39;00m (a+b) > c \u001b[38;5;129;01mand\u001b[39;00m (a+c) > b \u001b[38;5;129;01mand\u001b[39;00m (b+c) > a :\n",
      "\u001b[31mValueError\u001b[39m: could not convert string to float: 'q'"
     ]
    }
   ],
   "source": [
    "#BT6 : Tam giac\n",
    "#Nhap vao gia tri 3 canh cua tam giac\n",
    "import math\n",
    "a,b,c = map(float,input(\"Nhap 3 canh cua tam giac :\").split())\n",
    "\n",
    "#Kiem tra xem 3 canh vua nhap co thoa man la 1 tam giac hay khong\n",
    "if (a+b) > c and (a+c) > b and (b+c) > a :\n",
    "    nua_chu_vi = (a + b + c) / 2\n",
    "    dien_tich = math.sqrt(nua_chu_vi * (nua_chu_vi - a) * (nua_chu_vi - b) * (nua_chu_vi - c))\n",
    "    print(dien_tich)\n",
    "else :\n",
    "    print(\"Khong phai 3 canh cua tam giac\")\n",
    "\n"
   ]
  },
  {
   "cell_type": "code",
   "execution_count": null,
   "id": "6f423b2f",
   "metadata": {},
   "outputs": [
    {
     "name": "stdout",
     "output_type": "stream",
     "text": [
      "5 9\n"
     ]
    }
   ],
   "source": [
    "#BT7 : in ra ki thu thu n\n",
    "chuoi = input(\"Nhap vao mot chuoi ki tu :\")\n",
    "print(chuoi[4] , chuoi[8])\n"
   ]
  },
  {
   "cell_type": "code",
   "execution_count": 11,
   "id": "b2b32720",
   "metadata": {},
   "outputs": [
    {
     "name": "stdout",
     "output_type": "stream",
     "text": [
      "3\n"
     ]
    }
   ],
   "source": [
    "a,b,c = map(int,input().split())\n",
    "if a > b and a > c :\n",
    "    print(a)\n",
    "elif  b > c : \n",
    "    print(b) \n",
    "else : \n",
    "    print(c)\n"
   ]
  },
  {
   "cell_type": "code",
   "execution_count": 1,
   "id": "a1fa43db",
   "metadata": {},
   "outputs": [
    {
     "name": "stdout",
     "output_type": "stream",
     "text": [
      "PYTHON\n",
      "PTO\n",
      "PH\n",
      "YHN\n"
     ]
    }
   ],
   "source": [
    "text = \"PYTHON\"\n",
    "\n",
    "print(text[::1])     # PYTHON (bước nhảy 1 - mặc định)\n",
    "print(text[::2])     # PTO (lấy mỗi ký tự thứ 2)\n",
    "print(text[::3])     # PH (lấy mỗi ký tự thứ 3)\n",
    "print(text[1::2])    # YHN (bắt đầu từ vị trí 1, nhảy 2)"
   ]
  },
  {
   "cell_type": "code",
   "execution_count": 3,
   "id": "aea76215",
   "metadata": {},
   "outputs": [
    {
     "name": "stdout",
     "output_type": "stream",
     "text": [
      "hnahK hniM hnirT\n"
     ]
    }
   ],
   "source": [
    "text = \"Trinh Minh Khanh\"\n",
    "text.replace(\" \",\"\")\n",
    "print(text[::-1])"
   ]
  },
  {
   "cell_type": "code",
   "execution_count": 4,
   "id": "dbbf09d8",
   "metadata": {},
   "outputs": [],
   "source": [
    "import turtle\n",
    "\n",
    "# Tạo turtle\n",
    "t = turtle.Turtle()\n",
    "\n",
    "# Vẽ hình vuông\n",
    "for _ in range(4):\n",
    "    t.forward(50)\n",
    "    t.left(90)\n",
    "\n",
    "# Giữ cửa sổ mở\n",
    "turtle.done()\n"
   ]
  }
 ],
 "metadata": {
  "kernelspec": {
   "display_name": "Python 3",
   "language": "python",
   "name": "python3"
  },
  "language_info": {
   "codemirror_mode": {
    "name": "ipython",
    "version": 3
   },
   "file_extension": ".py",
   "mimetype": "text/x-python",
   "name": "python",
   "nbconvert_exporter": "python",
   "pygments_lexer": "ipython3",
   "version": "3.13.7"
  }
 },
 "nbformat": 4,
 "nbformat_minor": 5
}
