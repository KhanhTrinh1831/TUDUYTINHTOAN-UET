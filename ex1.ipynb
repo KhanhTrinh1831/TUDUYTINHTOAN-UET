{
 "cells": [
  {
   "cell_type": "code",
   "execution_count": null,
   "id": "770c30bf",
   "metadata": {},
   "outputs": [
    {
     "name": "stdout",
     "output_type": "stream",
     "text": [
      "So giay: 2562\n"
     ]
    },
    {
     "name": "stdout",
     "output_type": "stream",
     "text": [
      "So giay: 2562\n"
     ]
    }
   ],
   "source": [
    "#Bai tap 1 : so giay tron g42 phut 42 giay\n",
    "print(f\"So giay: {42*60 + 42}\")\n"
   ]
  },
  {
   "cell_type": "code",
   "execution_count": null,
   "id": "765b5d40",
   "metadata": {},
   "outputs": [
    {
     "name": "stdout",
     "output_type": "stream",
     "text": [
      "10km ung voi so dam la : 6.211180124223602\n"
     ]
    }
   ],
   "source": [
    "#Bai tap 2: Chuyen km thanh dam\n",
    "print(f\"10km ung voi so dam la : {10/1.61}\")"
   ]
  },
  {
   "cell_type": "code",
   "execution_count": null,
   "id": "30a238f5",
   "metadata": {},
   "outputs": [
    {
     "name": "stdout",
     "output_type": "stream",
     "text": [
      "Toc do la : 0.0024243482139826703 dam tren giay\n"
     ]
    }
   ],
   "source": [
    "#Bai tap 3: Chay 10 km trong 42 phut 42 giay thi dat toc do bao nhieu dam tren giay\n",
    "so_giay = 42*60 + 42\n",
    "so_dam = 10/1.61\n",
    "print(f\"Toc do la : {so_dam / so_giay} dam tren giay\")"
   ]
  },
  {
   "cell_type": "code",
   "execution_count": null,
   "id": "f4132bfa",
   "metadata": {},
   "outputs": [
    {
     "name": "stdout",
     "output_type": "stream",
     "text": [
      "Chay het 1 dam trong 6.874700000000002 phut\n",
      "Chay het mot dam trong 412.482 giay\n"
     ]
    }
   ],
   "source": [
    "#Bai tap 4 : Chay het mot dam trong bao nhieu phut,giay\n",
    "so_giay = 42*60 + 42\n",
    "so_phut = 42 + 42/60\n",
    "so_dam = 10/1.61\n",
    "\n",
    "print(f\"Chay het 1 dam trong {so_phut / so_dam} phut\")\n",
    "print(f\"Chay het mot dam trong {so_giay / so_dam} giay\")"
   ]
  },
  {
   "cell_type": "code",
   "execution_count": null,
   "id": "21d18864",
   "metadata": {},
   "outputs": [
    {
     "name": "stdout",
     "output_type": "stream",
     "text": [
      "Chay het mot dam trong 0.11457833333333335 gio\n"
     ]
    }
   ],
   "source": [
    "#Bai tap 5 :Chay het mot dam trong bao nhieu gio\n",
    "so_gio = (42*60 + 42) / 3600\n",
    "so_dam = 10/1.61\n",
    "print(f\"Chay het mot dam trong {so_gio / so_dam} gio\")"
   ]
  }
 ],
 "metadata": {
  "kernelspec": {
   "display_name": "Python 3",
   "language": "python",
   "name": "python3"
  },
  "language_info": {
   "codemirror_mode": {
    "name": "ipython",
    "version": 3
   },
   "file_extension": ".py",
   "mimetype": "text/x-python",
   "name": "python",
   "nbconvert_exporter": "python",
   "pygments_lexer": "ipython3",
   "version": "3.13.7"
  }
 },
 "nbformat": 4,
 "nbformat_minor": 5
}
